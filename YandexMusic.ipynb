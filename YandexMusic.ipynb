{
 "cells": [
  {
   "cell_type": "markdown",
   "metadata": {
    "id": "E0vqbgi9ay0H"
   },
   "source": [
    "# Яндекс.Музыка"
   ]
  },
  {
   "cell_type": "markdown",
   "metadata": {
    "id": "VUC88oWjTJw2"
   },
   "source": [
    "Сравнение Москвы и Петербурга окружено мифами. Например:\n",
    " * Москва — мегаполис, подчинённый жёсткому ритму рабочей недели;\n",
    " * Петербург — культурная столица, со своими вкусами.\n",
    "\n",
    "На данных Яндекс.Музыки вы сравните поведение пользователей двух столиц.\n",
    "\n",
    "**Цель исследования** — проверьте три гипотезы:\n",
    "1. Активность пользователей зависит от дня недели. Причём в Москве и Петербурге это проявляется по-разному.\n",
    "2. В понедельник утром в Москве преобладают одни жанры, а в Петербурге — другие. Так же и вечером пятницы преобладают разные жанры — в зависимости от города. \n",
    "3. Москва и Петербург предпочитают разные жанры музыки. В Москве чаще слушают поп-музыку, в Петербурге — русский рэп.\n",
    "\n",
    "**Ход исследования**\n",
    "\n",
    "Данные о поведении пользователей вы получите из файла `yandex_music_project.csv`. О качестве данных ничего не известно. Поэтому перед проверкой гипотез понадобится обзор данных. \n",
    "\n",
    "Вы проверите данные на ошибки и оцените их влияние на исследование. Затем, на этапе предобработки вы поищете возможность исправить самые критичные ошибки данных.\n",
    " \n",
    "Таким образом, исследование пройдёт в три этапа:\n",
    " 1. Обзор данных.\n",
    " 2. Предобработка данных.\n",
    " 3. Проверка гипотез.\n",
    "\n"
   ]
  },
  {
   "cell_type": "markdown",
   "metadata": {
    "id": "Ml1hmfXC_Zcs"
   },
   "source": [
    "## Обзор данных\n",
    "\n",
    "Составьте первое представление о данных Яндекс.Музыки.\n",
    "\n",
    "\n"
   ]
  },
  {
   "cell_type": "markdown",
   "metadata": {
    "id": "57eAOGIz_Zcs"
   },
   "source": [
    "Основной инструмент аналитика — `pandas`. Импортируйте эту библиотеку."
   ]
  },
  {
   "cell_type": "code",
   "execution_count": 1,
   "metadata": {
    "id": "AXN7PHPN_Zcs"
   },
   "outputs": [],
   "source": [
    "import pandas as pd # импорт библиотеки pandas"
   ]
  },
  {
   "cell_type": "markdown",
   "metadata": {
    "id": "SG23P8tt_Zcs"
   },
   "source": [
    "Прочитайте файл `yandex_music_project.csv` из папки `/datasets` и сохраните его в переменной `df`:"
   ]
  },
  {
   "cell_type": "code",
   "execution_count": 2,
   "metadata": {
    "id": "fFVu7vqh_Zct"
   },
   "outputs": [],
   "source": [
    "df = pd.read_csv('/datasets/yandex_music_project.csv')# чтение файла с данными и сохранение в df"
   ]
  },
  {
   "cell_type": "markdown",
   "metadata": {
    "id": "rDoOMd3uTqnZ"
   },
   "source": [
    "Выведите на экран первые десять строк таблицы:"
   ]
  },
  {
   "cell_type": "code",
   "execution_count": 3,
   "metadata": {
    "id": "oWTVX3gW_Zct"
   },
   "outputs": [
    {
     "data": {
      "text/html": [
       "<div>\n",
       "<style scoped>\n",
       "    .dataframe tbody tr th:only-of-type {\n",
       "        vertical-align: middle;\n",
       "    }\n",
       "\n",
       "    .dataframe tbody tr th {\n",
       "        vertical-align: top;\n",
       "    }\n",
       "\n",
       "    .dataframe thead th {\n",
       "        text-align: right;\n",
       "    }\n",
       "</style>\n",
       "<table border=\"1\" class=\"dataframe\">\n",
       "  <thead>\n",
       "    <tr style=\"text-align: right;\">\n",
       "      <th></th>\n",
       "      <th>userID</th>\n",
       "      <th>Track</th>\n",
       "      <th>artist</th>\n",
       "      <th>genre</th>\n",
       "      <th>City</th>\n",
       "      <th>time</th>\n",
       "      <th>Day</th>\n",
       "    </tr>\n",
       "  </thead>\n",
       "  <tbody>\n",
       "    <tr>\n",
       "      <td>0</td>\n",
       "      <td>FFB692EC</td>\n",
       "      <td>Kamigata To Boots</td>\n",
       "      <td>The Mass Missile</td>\n",
       "      <td>rock</td>\n",
       "      <td>Saint-Petersburg</td>\n",
       "      <td>20:28:33</td>\n",
       "      <td>Wednesday</td>\n",
       "    </tr>\n",
       "    <tr>\n",
       "      <td>1</td>\n",
       "      <td>55204538</td>\n",
       "      <td>Delayed Because of Accident</td>\n",
       "      <td>Andreas Rönnberg</td>\n",
       "      <td>rock</td>\n",
       "      <td>Moscow</td>\n",
       "      <td>14:07:09</td>\n",
       "      <td>Friday</td>\n",
       "    </tr>\n",
       "    <tr>\n",
       "      <td>2</td>\n",
       "      <td>20EC38</td>\n",
       "      <td>Funiculì funiculà</td>\n",
       "      <td>Mario Lanza</td>\n",
       "      <td>pop</td>\n",
       "      <td>Saint-Petersburg</td>\n",
       "      <td>20:58:07</td>\n",
       "      <td>Wednesday</td>\n",
       "    </tr>\n",
       "    <tr>\n",
       "      <td>3</td>\n",
       "      <td>A3DD03C9</td>\n",
       "      <td>Dragons in the Sunset</td>\n",
       "      <td>Fire + Ice</td>\n",
       "      <td>folk</td>\n",
       "      <td>Saint-Petersburg</td>\n",
       "      <td>08:37:09</td>\n",
       "      <td>Monday</td>\n",
       "    </tr>\n",
       "    <tr>\n",
       "      <td>4</td>\n",
       "      <td>E2DC1FAE</td>\n",
       "      <td>Soul People</td>\n",
       "      <td>Space Echo</td>\n",
       "      <td>dance</td>\n",
       "      <td>Moscow</td>\n",
       "      <td>08:34:34</td>\n",
       "      <td>Monday</td>\n",
       "    </tr>\n",
       "    <tr>\n",
       "      <td>5</td>\n",
       "      <td>842029A1</td>\n",
       "      <td>Преданная</td>\n",
       "      <td>IMPERVTOR</td>\n",
       "      <td>rusrap</td>\n",
       "      <td>Saint-Petersburg</td>\n",
       "      <td>13:09:41</td>\n",
       "      <td>Friday</td>\n",
       "    </tr>\n",
       "    <tr>\n",
       "      <td>6</td>\n",
       "      <td>4CB90AA5</td>\n",
       "      <td>True</td>\n",
       "      <td>Roman Messer</td>\n",
       "      <td>dance</td>\n",
       "      <td>Moscow</td>\n",
       "      <td>13:00:07</td>\n",
       "      <td>Wednesday</td>\n",
       "    </tr>\n",
       "    <tr>\n",
       "      <td>7</td>\n",
       "      <td>F03E1C1F</td>\n",
       "      <td>Feeling This Way</td>\n",
       "      <td>Polina Griffith</td>\n",
       "      <td>dance</td>\n",
       "      <td>Moscow</td>\n",
       "      <td>20:47:49</td>\n",
       "      <td>Wednesday</td>\n",
       "    </tr>\n",
       "    <tr>\n",
       "      <td>8</td>\n",
       "      <td>8FA1D3BE</td>\n",
       "      <td>И вновь продолжается бой</td>\n",
       "      <td>NaN</td>\n",
       "      <td>ruspop</td>\n",
       "      <td>Moscow</td>\n",
       "      <td>09:17:40</td>\n",
       "      <td>Friday</td>\n",
       "    </tr>\n",
       "    <tr>\n",
       "      <td>9</td>\n",
       "      <td>E772D5C0</td>\n",
       "      <td>Pessimist</td>\n",
       "      <td>NaN</td>\n",
       "      <td>dance</td>\n",
       "      <td>Saint-Petersburg</td>\n",
       "      <td>21:20:49</td>\n",
       "      <td>Wednesday</td>\n",
       "    </tr>\n",
       "  </tbody>\n",
       "</table>\n",
       "</div>"
      ],
      "text/plain": [
       "     userID                        Track            artist   genre  \\\n",
       "0  FFB692EC            Kamigata To Boots  The Mass Missile    rock   \n",
       "1  55204538  Delayed Because of Accident  Andreas Rönnberg    rock   \n",
       "2    20EC38            Funiculì funiculà       Mario Lanza     pop   \n",
       "3  A3DD03C9        Dragons in the Sunset        Fire + Ice    folk   \n",
       "4  E2DC1FAE                  Soul People        Space Echo   dance   \n",
       "5  842029A1                    Преданная         IMPERVTOR  rusrap   \n",
       "6  4CB90AA5                         True      Roman Messer   dance   \n",
       "7  F03E1C1F             Feeling This Way   Polina Griffith   dance   \n",
       "8  8FA1D3BE     И вновь продолжается бой               NaN  ruspop   \n",
       "9  E772D5C0                    Pessimist               NaN   dance   \n",
       "\n",
       "             City        time        Day  \n",
       "0  Saint-Petersburg  20:28:33  Wednesday  \n",
       "1            Moscow  14:07:09     Friday  \n",
       "2  Saint-Petersburg  20:58:07  Wednesday  \n",
       "3  Saint-Petersburg  08:37:09     Monday  \n",
       "4            Moscow  08:34:34     Monday  \n",
       "5  Saint-Petersburg  13:09:41     Friday  \n",
       "6            Moscow  13:00:07  Wednesday  \n",
       "7            Moscow  20:47:49  Wednesday  \n",
       "8            Moscow  09:17:40     Friday  \n",
       "9  Saint-Petersburg  21:20:49  Wednesday  "
      ]
     },
     "execution_count": 3,
     "metadata": {},
     "output_type": "execute_result"
    }
   ],
   "source": [
    "df.head(10)# получение первых 10 строк таблицы df"
   ]
  },
  {
   "cell_type": "markdown",
   "metadata": {
    "id": "EO73Kwic_Zct"
   },
   "source": [
    "Одной командой получить общую информацию о таблице:"
   ]
  },
  {
   "cell_type": "code",
   "execution_count": 4,
   "metadata": {
    "id": "DSf2kIb-_Zct"
   },
   "outputs": [
    {
     "name": "stdout",
     "output_type": "stream",
     "text": [
      "<class 'pandas.core.frame.DataFrame'>\n",
      "RangeIndex: 65079 entries, 0 to 65078\n",
      "Data columns (total 7 columns):\n",
      "  userID    65079 non-null object\n",
      "Track       63848 non-null object\n",
      "artist      57876 non-null object\n",
      "genre       63881 non-null object\n",
      "  City      65079 non-null object\n",
      "time        65079 non-null object\n",
      "Day         65079 non-null object\n",
      "dtypes: object(7)\n",
      "memory usage: 3.5+ MB\n"
     ]
    }
   ],
   "source": [
    "df.info()# получение общей информации о данных в таблице df"
   ]
  },
  {
   "cell_type": "markdown",
   "metadata": {
    "id": "TaQ2Iwbr_Zct"
   },
   "source": [
    "Итак, в таблице семь столбцов. Тип данных во всех столбцах — `object`.\n",
    "\n",
    "Согласно документации к данным:\n",
    "* `userID` — идентификатор пользователя;\n",
    "* `Track` — название трека;  \n",
    "* `artist` — имя исполнителя;\n",
    "* `genre` — название жанра;\n",
    "* `City` — город пользователя;\n",
    "* `time` — время начала прослушивания;\n",
    "* `Day` — день недели.\n",
    "\n",
    "В названиях колонок видны три нарушения стиля:\n",
    "1. Строчные буквы сочетаются с прописными.\n",
    "2. Встречаются пробелы.\n",
    "3. Некоторые столбцы начинаются с прописной буквы.\n",
    "\n",
    "\n",
    "\n",
    "Количество значений в столбцах различается. Значит, в данных есть пропущенные значения.\n"
   ]
  },
  {
   "cell_type": "markdown",
   "metadata": {},
   "source": [
    "<div class=\"alert alert-info\">\n",
    "<b>Комментарий студента:</b>\n",
    "<br> Поправил, не поскажите, а как вообще определить что в названии столбца или строки присутсвует кириллица?\n",
    "</div>"
   ]
  },
  {
   "cell_type": "code",
   "execution_count": 39,
   "metadata": {},
   "outputs": [
    {
     "data": {
      "text/plain": [
       "['ы', 'ю']"
      ]
     },
     "execution_count": 39,
     "metadata": {},
     "output_type": "execute_result"
    }
   ],
   "source": [
    "#код ревьюера\n",
    "kirill = ('абвгдеёжзийклмнопрстуфхцчшщъыьэюя') #создадим переменную, в которой будут все буквы из русского алфавита\n",
    "text = 'Юvrsfы' #создадим переменную с текстом для проверки\n",
    "find_kirill = [x for x in kirill if x in text.lower()] #в цикле пройдёмся по переменной kirill и проверим есть ли в переменной \n",
    "                                                       #text кириллица\n",
    "find_kirill #выведем результат"
   ]
  },
  {
   "cell_type": "markdown",
   "metadata": {
    "id": "MCB6-dXG_Zct"
   },
   "source": [
    "**Выводы**\n",
    "\n",
    "В каждой строке таблицы — данные о прослушанном треке. Часть колонок описывает саму композицию: название, исполнителя и жанр. Остальные данные рассказывают о пользователе: из какого он города, когда он слушал музыку. \n",
    "\n",
    "Предварительно можно утверждать, что, данных достаточно для проверки гипотез. Но встречаются пропуски в данных, а в названиях колонок — расхождения с хорошим стилем.\n",
    "\n",
    "Чтобы двигаться дальше, нужно устранить проблемы в данных."
   ]
  },
  {
   "cell_type": "markdown",
   "metadata": {
    "id": "SjYF6Ub9_Zct"
   },
   "source": [
    "## Предобработка данных\n",
    "Исправьте стиль в заголовках столбцов, исключите пропуски. Затем проверьте данные на дубликаты."
   ]
  },
  {
   "cell_type": "markdown",
   "metadata": {
    "id": "dIaKXr29_Zct"
   },
   "source": [
    "### Стиль заголовков\n",
    "Выведите на экран названия столбцов:"
   ]
  },
  {
   "cell_type": "code",
   "execution_count": 5,
   "metadata": {
    "id": "oKOTdF_Q_Zct"
   },
   "outputs": [
    {
     "data": {
      "text/plain": [
       "Index(['  userID', 'Track', 'artist', 'genre', '  City  ', 'time', 'Day'], dtype='object')"
      ]
     },
     "execution_count": 5,
     "metadata": {},
     "output_type": "execute_result"
    }
   ],
   "source": [
    "df.columns# перечень названий столбцов таблицы df"
   ]
  },
  {
   "cell_type": "markdown",
   "metadata": {
    "id": "zj5534cv_Zct"
   },
   "source": [
    "Приведите названия в соответствие с хорошим стилем:\n",
    "* несколько слов в названии запишите в «змеином_регистре»,\n",
    "* все символы сделайте строчными,\n",
    "* устраните пробелы.\n",
    "\n",
    "Для этого переименуйте колонки так:\n",
    "* `'  userID'` → `'user_id'`;\n",
    "* `'Track'` → `'track'`;\n",
    "* `'  City  '` → `'city'`;\n",
    "* `'Day'` → `'day'`."
   ]
  },
  {
   "cell_type": "code",
   "execution_count": 6,
   "metadata": {
    "id": "ISlFqs5y_Zct"
   },
   "outputs": [],
   "source": [
    "df = df.rename(columns={'  userID':'user_id', 'Track':'track', '  City  ':'city', 'Day':'day'})# переименование столбцов"
   ]
  },
  {
   "cell_type": "markdown",
   "metadata": {
    "id": "1dqbh00J_Zct"
   },
   "source": [
    "Проверьте результат. Для этого ещё раз выведите на экран названия столбцов:"
   ]
  },
  {
   "cell_type": "code",
   "execution_count": 7,
   "metadata": {
    "id": "d4NOAmTW_Zct"
   },
   "outputs": [
    {
     "data": {
      "text/plain": [
       "Index(['user_id', 'track', 'artist', 'genre', 'city', 'time', 'day'], dtype='object')"
      ]
     },
     "execution_count": 7,
     "metadata": {},
     "output_type": "execute_result"
    }
   ],
   "source": [
    "df.columns# проверка результатов - перечень названий столбцов"
   ]
  },
  {
   "cell_type": "markdown",
   "metadata": {
    "id": "5ISfbcfY_Zct"
   },
   "source": [
    "### Пропуски значений\n",
    "Сначала посчитайте, сколько в таблице пропущенных значений. Для этого достаточно двух методов `pandas`:"
   ]
  },
  {
   "cell_type": "code",
   "execution_count": 8,
   "metadata": {
    "id": "RskX29qr_Zct"
   },
   "outputs": [
    {
     "data": {
      "text/plain": [
       "user_id       0\n",
       "track      1231\n",
       "artist     7203\n",
       "genre      1198\n",
       "city          0\n",
       "time          0\n",
       "day           0\n",
       "dtype: int64"
      ]
     },
     "execution_count": 8,
     "metadata": {},
     "output_type": "execute_result"
    }
   ],
   "source": [
    "df.isna().sum()# подсчёт пропусков"
   ]
  },
  {
   "cell_type": "markdown",
   "metadata": {
    "id": "qubhgnlO_Zct"
   },
   "source": [
    "Не все пропущенные значения влияют на исследование. Так в `track` и `artist` пропуски не важны для вашей работы. Достаточно заменить их явными обозначениями.\n",
    "\n",
    "Но пропуски в `genre` могут помешать сравнению музыкальных вкусов в Москве и Санкт-Петербурге. На практике было бы правильно установить причину пропусков и восстановить данные. Такой возможности нет в учебном проекте. Придётся:\n",
    "* заполнить и эти пропуски явными обозначениями,\n",
    "* оценить, насколько они повредят расчётам. "
   ]
  },
  {
   "cell_type": "markdown",
   "metadata": {
    "id": "fSv2laPA_Zct"
   },
   "source": [
    "Замените пропущенные значения в столбцах `track`, `artist` и `genre` на строку `'unknown'`. Для этого создайте список `columns_to_replace`, переберите его элементы циклом `for` и для каждого столбца выполните замену пропущенных значений:"
   ]
  },
  {
   "cell_type": "code",
   "execution_count": 9,
   "metadata": {
    "id": "KplB5qWs_Zct"
   },
   "outputs": [],
   "source": [
    "columns_to_replace = ['track', 'artist', 'genre']\n",
    "for column in columns_to_replace:\n",
    "    df[column] = df[column].fillna('unknown')# перебор названий столбцов в цикле и замена пропущенных значений на 'unknown'"
   ]
  },
  {
   "cell_type": "markdown",
   "metadata": {
    "id": "Ilsm-MZo_Zct"
   },
   "source": [
    "Убедитесь, что в таблице не осталось пропусков. Для этого ещё раз посчитайте пропущенные значения."
   ]
  },
  {
   "cell_type": "code",
   "execution_count": 10,
   "metadata": {
    "id": "Tq4nYRX4_Zct"
   },
   "outputs": [
    {
     "data": {
      "text/plain": [
       "user_id    0\n",
       "track      0\n",
       "artist     0\n",
       "genre      0\n",
       "city       0\n",
       "time       0\n",
       "day        0\n",
       "dtype: int64"
      ]
     },
     "execution_count": 10,
     "metadata": {},
     "output_type": "execute_result"
    }
   ],
   "source": [
    "df.isna().sum()# подсчёт пропусков"
   ]
  },
  {
   "cell_type": "markdown",
   "metadata": {
    "id": "BWKRtBJ3_Zct"
   },
   "source": [
    "### Дубликаты\n",
    "Посчитайте явные дубликаты в таблице одной командой:"
   ]
  },
  {
   "cell_type": "code",
   "execution_count": 11,
   "metadata": {
    "id": "36eES_S0_Zct"
   },
   "outputs": [
    {
     "data": {
      "text/plain": [
       "3826"
      ]
     },
     "execution_count": 11,
     "metadata": {},
     "output_type": "execute_result"
    }
   ],
   "source": [
    "df.duplicated().sum()# подсчёт явных дубликатов"
   ]
  },
  {
   "cell_type": "markdown",
   "metadata": {
    "id": "Ot25h6XR_Zct"
   },
   "source": [
    "Вызовите специальный метод `pandas`, чтобы удалить явные дубликаты:"
   ]
  },
  {
   "cell_type": "code",
   "execution_count": 12,
   "metadata": {
    "id": "exFHq6tt_Zct"
   },
   "outputs": [],
   "source": [
    "df = df.drop_duplicates().reset_index(drop=True)# удаление явных дубликатов (с удалением старых индексов и формированием новых)"
   ]
  },
  {
   "cell_type": "markdown",
   "metadata": {
    "id": "Im2YwBEG_Zct"
   },
   "source": [
    "Ещё раз посчитайте явные дубликаты в таблице — убедитесь, что полностью от них избавились:"
   ]
  },
  {
   "cell_type": "code",
   "execution_count": 13,
   "metadata": {
    "id": "-8PuNWQ0_Zct"
   },
   "outputs": [
    {
     "data": {
      "text/plain": [
       "0"
      ]
     },
     "execution_count": 13,
     "metadata": {},
     "output_type": "execute_result"
    }
   ],
   "source": [
    "df.duplicated().sum()# проверка на отсутствие дубликатов"
   ]
  },
  {
   "cell_type": "markdown",
   "metadata": {
    "id": "QlFBsxAr_Zct"
   },
   "source": [
    "Теперь избавьтесь от неявных дубликатов в колонке `genre`. Например, название одного и того же жанра может быть записано немного по-разному. Такие ошибки тоже повлияют на результат исследования."
   ]
  },
  {
   "cell_type": "markdown",
   "metadata": {
    "id": "eSjWwsOh_Zct"
   },
   "source": [
    "Выведите на экран список уникальных названий жанров, отсортированный в алфавитном порядке. Для этого:\n",
    "* извлеките нужный столбец датафрейма, \n",
    "* примените к нему метод сортировки,\n",
    "* для отсортированного столбца вызовите метод, который вернёт уникальные значения из столбца."
   ]
  },
  {
   "cell_type": "code",
   "execution_count": 14,
   "metadata": {
    "id": "JIUcqzZN_Zct"
   },
   "outputs": [
    {
     "name": "stdout",
     "output_type": "stream",
     "text": [
      "['acid' 'acoustic' 'action' 'adult' 'africa' 'afrikaans' 'alternative'\n",
      " 'alternativepunk' 'ambient' 'americana' 'animated' 'anime' 'arabesk'\n",
      " 'arabic' 'arena' 'argentinetango' 'art' 'audiobook' 'author' 'avantgarde'\n",
      " 'axé' 'baile' 'balkan' 'beats' 'bigroom' 'black' 'bluegrass' 'blues'\n",
      " 'bollywood' 'bossa' 'brazilian' 'breakbeat' 'breaks' 'broadway'\n",
      " 'cantautori' 'cantopop' 'canzone' 'caribbean' 'caucasian' 'celtic'\n",
      " 'chamber' 'chanson' 'children' 'chill' 'chinese' 'choral' 'christian'\n",
      " 'christmas' 'classical' 'classicmetal' 'club' 'colombian' 'comedy'\n",
      " 'conjazz' 'contemporary' 'country' 'cuban' 'dance' 'dancehall' 'dancepop'\n",
      " 'dark' 'death' 'deep' 'deutschrock' 'deutschspr' 'dirty' 'disco' 'dnb'\n",
      " 'documentary' 'downbeat' 'downtempo' 'drum' 'dub' 'dubstep' 'eastern'\n",
      " 'easy' 'electronic' 'electropop' 'emo' 'entehno' 'epicmetal' 'estrada'\n",
      " 'ethnic' 'eurofolk' 'european' 'experimental' 'extrememetal' 'fado'\n",
      " 'fairytail' 'film' 'fitness' 'flamenco' 'folk' 'folklore' 'folkmetal'\n",
      " 'folkrock' 'folktronica' 'forró' 'frankreich' 'französisch' 'french'\n",
      " 'funk' 'future' 'gangsta' 'garage' 'german' 'ghazal' 'gitarre' 'glitch'\n",
      " 'gospel' 'gothic' 'grime' 'grunge' 'gypsy' 'handsup' \"hard'n'heavy\"\n",
      " 'hardcore' 'hardstyle' 'hardtechno' 'hip' 'hip-hop' 'hiphop' 'historisch'\n",
      " 'holiday' 'hop' 'horror' 'house' 'hymn' 'idm' 'independent' 'indian'\n",
      " 'indie' 'indipop' 'industrial' 'inspirational' 'instrumental'\n",
      " 'international' 'irish' 'jam' 'japanese' 'jazz' 'jewish' 'jpop' 'jungle'\n",
      " 'k-pop' 'karadeniz' 'karaoke' 'kayokyoku' 'korean' 'laiko' 'latin'\n",
      " 'latino' 'leftfield' 'local' 'lounge' 'loungeelectronic' 'lovers'\n",
      " 'malaysian' 'mandopop' 'marschmusik' 'meditative' 'mediterranean'\n",
      " 'melodic' 'metal' 'metalcore' 'mexican' 'middle' 'minimal'\n",
      " 'miscellaneous' 'modern' 'mood' 'mpb' 'muslim' 'native' 'neoklassik'\n",
      " 'neue' 'new' 'newage' 'newwave' 'nu' 'nujazz' 'numetal' 'oceania' 'old'\n",
      " 'opera' 'orchestral' 'other' 'piano' 'podcasts' 'pop' 'popdance'\n",
      " 'popelectronic' 'popeurodance' 'poprussian' 'post' 'posthardcore'\n",
      " 'postrock' 'power' 'progmetal' 'progressive' 'psychedelic' 'punjabi'\n",
      " 'punk' 'quebecois' 'ragga' 'ram' 'rancheras' 'rap' 'rave' 'reggae'\n",
      " 'reggaeton' 'regional' 'relax' 'religious' 'retro' 'rhythm' 'rnb' 'rnr'\n",
      " 'rock' 'rockabilly' 'rockalternative' 'rockindie' 'rockother' 'romance'\n",
      " 'roots' 'ruspop' 'rusrap' 'rusrock' 'russian' 'salsa' 'samba' 'scenic'\n",
      " 'schlager' 'self' 'sertanejo' 'shanson' 'shoegazing' 'showtunes' 'singer'\n",
      " 'ska' 'skarock' 'slow' 'smooth' 'soft' 'soul' 'soulful' 'sound'\n",
      " 'soundtrack' 'southern' 'specialty' 'speech' 'spiritual' 'sport'\n",
      " 'stonerrock' 'surf' 'swing' 'synthpop' 'synthrock' 'sängerportrait'\n",
      " 'tango' 'tanzorchester' 'taraftar' 'tatar' 'tech' 'techno' 'teen'\n",
      " 'thrash' 'top' 'traditional' 'tradjazz' 'trance' 'tribal' 'trip'\n",
      " 'triphop' 'tropical' 'türk' 'türkçe' 'ukrrock' 'unknown' 'urban' 'uzbek'\n",
      " 'variété' 'vi' 'videogame' 'vocal' 'western' 'world' 'worldbeat' 'ïîï'\n",
      " 'электроника']\n"
     ]
    }
   ],
   "source": [
    "print (df['genre'].sort_values().unique())# Просмотр уникальных названий жанров"
   ]
  },
  {
   "cell_type": "code",
   "execution_count": 44,
   "metadata": {},
   "outputs": [
    {
     "data": {
      "text/plain": [
       "numpy.ndarray"
      ]
     },
     "execution_count": 44,
     "metadata": {},
     "output_type": "execute_result"
    }
   ],
   "source": [
    "#код ревьюера\n",
    "type(df['genre'].unique())"
   ]
  },
  {
   "cell_type": "code",
   "execution_count": 48,
   "metadata": {},
   "outputs": [
    {
     "data": {
      "text/plain": [
       "pandas.core.series.Series"
      ]
     },
     "execution_count": 48,
     "metadata": {},
     "output_type": "execute_result"
    }
   ],
   "source": [
    "#код ревьюера\n",
    "type(df['genre'])"
   ]
  },
  {
   "cell_type": "markdown",
   "metadata": {
    "id": "qej-Qmuo_Zct"
   },
   "source": [
    "Просмотрите список и найдите неявные дубликаты названия `hiphop`. Это могут быть названия с ошибками или альтернативные названия того же жанра.\n",
    "\n",
    "Вы увидите следующие неявные дубликаты:\n",
    "* *hip*,\n",
    "* *hop*,\n",
    "* *hip-hop*.\n",
    "\n",
    "Чтобы очистить от них таблицу, напишите функцию `replace_wrong_genres()` с двумя параметрами: \n",
    "* `wrong_genres` — список дубликатов,\n",
    "* `correct_genre` — строка с правильным значением.\n",
    "\n",
    "Функция должна исправить колонку `genre` в таблице `df`: заменить каждое значение из списка `wrong_genres` на значение из `correct_genre`."
   ]
  },
  {
   "cell_type": "code",
   "execution_count": 15,
   "metadata": {
    "id": "ErNDkmns_Zct"
   },
   "outputs": [],
   "source": [
    "def replace_wrong_genres (wrong_genres,correct_genre):\n",
    "    for wrong_genre in wrong_genres:\n",
    "        df['genre'] = df['genre'].replace(wrong_genres,correct_genre)# Функция для замены неявных дубликатов"
   ]
  },
  {
   "cell_type": "markdown",
   "metadata": {
    "id": "aDoBJxbA_Zct"
   },
   "source": [
    "Вызовите `replace_wrong_genres()` и передайте ей такие аргументы, чтобы она устранила неявные дубликаты: вместо `hip`, `hop` и `hip-hop` в таблице должно быть значение `hiphop`:"
   ]
  },
  {
   "cell_type": "code",
   "execution_count": 16,
   "metadata": {
    "id": "YN5i2hpmSo09"
   },
   "outputs": [],
   "source": [
    "duplicates = ['hip', 'hop' , 'hip-hop']\n",
    "name = 'hiphop'\n",
    "replace_wrong_genres(duplicates, name)# Устранение неявных дубликатов"
   ]
  },
  {
   "cell_type": "markdown",
   "metadata": {
    "id": "zQKF16_RG15m"
   },
   "source": [
    "Проверьте, что заменили неправильные названия:\n",
    "\n",
    "*   hip\n",
    "*   hop\n",
    "*   hip-hop\n",
    "\n",
    "Выведите отсортированный список уникальных значений столбца `genre`:"
   ]
  },
  {
   "cell_type": "code",
   "execution_count": 17,
   "metadata": {
    "id": "wvixALnFG15m"
   },
   "outputs": [
    {
     "name": "stdout",
     "output_type": "stream",
     "text": [
      "['acid' 'acoustic' 'action' 'adult' 'africa' 'afrikaans' 'alternative'\n",
      " 'alternativepunk' 'ambient' 'americana' 'animated' 'anime' 'arabesk'\n",
      " 'arabic' 'arena' 'argentinetango' 'art' 'audiobook' 'author' 'avantgarde'\n",
      " 'axé' 'baile' 'balkan' 'beats' 'bigroom' 'black' 'bluegrass' 'blues'\n",
      " 'bollywood' 'bossa' 'brazilian' 'breakbeat' 'breaks' 'broadway'\n",
      " 'cantautori' 'cantopop' 'canzone' 'caribbean' 'caucasian' 'celtic'\n",
      " 'chamber' 'chanson' 'children' 'chill' 'chinese' 'choral' 'christian'\n",
      " 'christmas' 'classical' 'classicmetal' 'club' 'colombian' 'comedy'\n",
      " 'conjazz' 'contemporary' 'country' 'cuban' 'dance' 'dancehall' 'dancepop'\n",
      " 'dark' 'death' 'deep' 'deutschrock' 'deutschspr' 'dirty' 'disco' 'dnb'\n",
      " 'documentary' 'downbeat' 'downtempo' 'drum' 'dub' 'dubstep' 'eastern'\n",
      " 'easy' 'electronic' 'electropop' 'emo' 'entehno' 'epicmetal' 'estrada'\n",
      " 'ethnic' 'eurofolk' 'european' 'experimental' 'extrememetal' 'fado'\n",
      " 'fairytail' 'film' 'fitness' 'flamenco' 'folk' 'folklore' 'folkmetal'\n",
      " 'folkrock' 'folktronica' 'forró' 'frankreich' 'französisch' 'french'\n",
      " 'funk' 'future' 'gangsta' 'garage' 'german' 'ghazal' 'gitarre' 'glitch'\n",
      " 'gospel' 'gothic' 'grime' 'grunge' 'gypsy' 'handsup' \"hard'n'heavy\"\n",
      " 'hardcore' 'hardstyle' 'hardtechno' 'hiphop' 'historisch' 'holiday'\n",
      " 'horror' 'house' 'hymn' 'idm' 'independent' 'indian' 'indie' 'indipop'\n",
      " 'industrial' 'inspirational' 'instrumental' 'international' 'irish' 'jam'\n",
      " 'japanese' 'jazz' 'jewish' 'jpop' 'jungle' 'k-pop' 'karadeniz' 'karaoke'\n",
      " 'kayokyoku' 'korean' 'laiko' 'latin' 'latino' 'leftfield' 'local'\n",
      " 'lounge' 'loungeelectronic' 'lovers' 'malaysian' 'mandopop' 'marschmusik'\n",
      " 'meditative' 'mediterranean' 'melodic' 'metal' 'metalcore' 'mexican'\n",
      " 'middle' 'minimal' 'miscellaneous' 'modern' 'mood' 'mpb' 'muslim'\n",
      " 'native' 'neoklassik' 'neue' 'new' 'newage' 'newwave' 'nu' 'nujazz'\n",
      " 'numetal' 'oceania' 'old' 'opera' 'orchestral' 'other' 'piano' 'podcasts'\n",
      " 'pop' 'popdance' 'popelectronic' 'popeurodance' 'poprussian' 'post'\n",
      " 'posthardcore' 'postrock' 'power' 'progmetal' 'progressive' 'psychedelic'\n",
      " 'punjabi' 'punk' 'quebecois' 'ragga' 'ram' 'rancheras' 'rap' 'rave'\n",
      " 'reggae' 'reggaeton' 'regional' 'relax' 'religious' 'retro' 'rhythm'\n",
      " 'rnb' 'rnr' 'rock' 'rockabilly' 'rockalternative' 'rockindie' 'rockother'\n",
      " 'romance' 'roots' 'ruspop' 'rusrap' 'rusrock' 'russian' 'salsa' 'samba'\n",
      " 'scenic' 'schlager' 'self' 'sertanejo' 'shanson' 'shoegazing' 'showtunes'\n",
      " 'singer' 'ska' 'skarock' 'slow' 'smooth' 'soft' 'soul' 'soulful' 'sound'\n",
      " 'soundtrack' 'southern' 'specialty' 'speech' 'spiritual' 'sport'\n",
      " 'stonerrock' 'surf' 'swing' 'synthpop' 'synthrock' 'sängerportrait'\n",
      " 'tango' 'tanzorchester' 'taraftar' 'tatar' 'tech' 'techno' 'teen'\n",
      " 'thrash' 'top' 'traditional' 'tradjazz' 'trance' 'tribal' 'trip'\n",
      " 'triphop' 'tropical' 'türk' 'türkçe' 'ukrrock' 'unknown' 'urban' 'uzbek'\n",
      " 'variété' 'vi' 'videogame' 'vocal' 'western' 'world' 'worldbeat' 'ïîï'\n",
      " 'электроника']\n"
     ]
    }
   ],
   "source": [
    "print (df['genre'].sort_values().unique())# Проверка на неявные дубликаты c удаленными неявными дубликатами"
   ]
  },
  {
   "cell_type": "markdown",
   "metadata": {
    "id": "jz6a9-7HQUDd"
   },
   "source": [
    "**Выводы**\n",
    "\n",
    "Предобработка обнаружила три проблемы в данных:\n",
    "\n",
    "- нарушения в стиле заголовков,\n",
    "- пропущенные значения,\n",
    "- дубликаты — явные и неявные.\n",
    "\n",
    "Вы исправили заголовки, чтобы упростить работу с таблицей. Без дубликатов исследование станет более точным.\n",
    "\n",
    "Пропущенные значения вы заменили на `'unknown'`. Ещё предстоит увидеть, не повредят ли исследованию пропуски в колонке `genre`.\n",
    "\n",
    "Теперь можно перейти к проверке гипотез. "
   ]
  },
  {
   "cell_type": "markdown",
   "metadata": {
    "id": "WttZHXH0SqKk"
   },
   "source": [
    "## Проверка гипотез"
   ]
  },
  {
   "cell_type": "markdown",
   "metadata": {
    "id": "Im936VVi_Zcu"
   },
   "source": [
    "### Сравнение поведения пользователей двух столиц"
   ]
  },
  {
   "cell_type": "markdown",
   "metadata": {
    "id": "nwt_MuaL_Zcu"
   },
   "source": [
    "Первая гипотеза утверждает, что пользователи по-разному слушают музыку в Москве и Санкт-Петербурге. Проверьте это предположение по данным о трёх днях недели — понедельнике, среде и пятнице. Для этого:\n",
    "\n",
    "* Разделите пользователей Москвы и Санкт-Петербурга\n",
    "* Сравните, сколько треков послушала каждая группа пользователей в понедельник, среду и пятницу.\n"
   ]
  },
  {
   "cell_type": "markdown",
   "metadata": {
    "id": "8Dw_YMmT_Zcu"
   },
   "source": [
    "Для тренировки сначала выполните каждый из расчётов по отдельности. \n",
    "\n",
    "Оцените активность пользователей в каждом городе. Сгруппируйте данные по городу и посчитайте прослушивания в каждой группе.\n",
    "\n"
   ]
  },
  {
   "cell_type": "code",
   "execution_count": 18,
   "metadata": {
    "id": "0_Qs96oh_Zcu"
   },
   "outputs": [
    {
     "data": {
      "text/plain": [
       "city\n",
       "Moscow              42741\n",
       "Saint-Petersburg    18512\n",
       "Name: genre, dtype: int64"
      ]
     },
     "execution_count": 18,
     "metadata": {},
     "output_type": "execute_result"
    }
   ],
   "source": [
    "df.groupby('city')['genre'].count()# Подсчёт прослушиваний в каждом городе"
   ]
  },
  {
   "cell_type": "markdown",
   "metadata": {
    "id": "dzli3w8o_Zcu"
   },
   "source": [
    "В Москве прослушиваний больше (42741), чем в Петербурге(18512). Из этого не следует, что московские пользователи чаще слушают музыку. Просто самих пользователей в Москве больше.\n",
    "\n",
    "Теперь сгруппируйте данные по дню недели и подсчитайте прослушивания в понедельник, среду и пятницу. Учтите, что в данных есть информация только о прослушиваниях только за эти дни.\n"
   ]
  },
  {
   "cell_type": "code",
   "execution_count": 19,
   "metadata": {
    "id": "uZMKjiJz_Zcu"
   },
   "outputs": [
    {
     "data": {
      "text/plain": [
       "day\n",
       "Friday       21840\n",
       "Monday       21354\n",
       "Wednesday    18059\n",
       "Name: genre, dtype: int64"
      ]
     },
     "execution_count": 19,
     "metadata": {},
     "output_type": "execute_result"
    }
   ],
   "source": [
    "df.groupby('day')['genre'].count()# Подсчёт прослушиваний в каждый из трёх дней"
   ]
  },
  {
   "cell_type": "markdown",
   "metadata": {
    "id": "cC2tNrlL_Zcu"
   },
   "source": [
    "В среднем пользователи из двух городов менее активны по средам. Но картина может измениться, если рассмотреть каждый город в отдельности."
   ]
  },
  {
   "cell_type": "markdown",
   "metadata": {
    "id": "POzs8bGa_Zcu"
   },
   "source": [
    "Вы видели, как работает группировка по городу и по дням недели. Теперь напишите функцию, которая объединит два эти расчёта.\n",
    "\n",
    "Создайте функцию `number_tracks()`, которая посчитает прослушивания для заданного дня и города. Ей понадобятся два параметра:\n",
    "* день недели,\n",
    "* название города.\n",
    "\n",
    "В функции сохраните в переменную строки исходной таблицы, у которых значение:\n",
    "  * в колонке `day` равно параметру `day`,\n",
    "  * в колонке `city` равно параметру `city`.\n",
    "\n",
    "Для этого примените последовательную фильтрацию с логической индексацией.\n",
    "\n",
    "Затем посчитайте значения в столбце `user_id` получившейся таблицы. Результат сохраните в новую переменную. Верните эту переменную из функции."
   ]
  },
  {
   "cell_type": "code",
   "execution_count": 20,
   "metadata": {
    "id": "Nz3GdQB1_Zcu"
   },
   "outputs": [],
   "source": [
    "# <создание функции number_tracks()>\n",
    "def number_tracks (day, city):# Объявляется функция с двумя параметрами: day, city.\n",
    "    track_list=df[(df['day']==day) & (df['city']==city)]# В переменной track_list сохраняются те строки таблицы df, для которых \n",
    "# значение в столбце 'day' равно параметру day и одновременно значение\n",
    "# в столбце 'city' равно параметру city (используйте последовательную фильтрацию\n",
    "# с помощью логической индексации).\n",
    "    track_list_count = track_list['user_id'].count()\n",
    "# В переменной track_list_count сохраняется число значений столбца 'user_id',\n",
    "# рассчитанное методом count() для таблицы track_list.\n",
    "    return track_list_count# Функция возвращает число - значение track_list_count.\n",
    "\n",
    "# Функция для подсчёта прослушиваний для конкретного города и дня.\n",
    "# С помощью последовательной фильтрации с логической индексацией она \n",
    "# сначала получит из исходной таблицы строки с нужным днём,\n",
    "# затем из результата отфильтрует строки с нужным городом,\n",
    "# методом count() посчитает количество значений в колонке user_id. \n",
    "# Это количество функция вернёт в качестве результата"
   ]
  },
  {
   "cell_type": "markdown",
   "metadata": {
    "id": "ytf7xFrFJQ2r"
   },
   "source": [
    "Вызовите `number_tracks()` шесть раз, меняя значение параметров — так, чтобы получить данные для каждого города в каждый из трёх дней."
   ]
  },
  {
   "cell_type": "code",
   "execution_count": 21,
   "metadata": {
    "id": "rJcRATNQ_Zcu"
   },
   "outputs": [
    {
     "data": {
      "text/plain": [
       "15740"
      ]
     },
     "execution_count": 21,
     "metadata": {},
     "output_type": "execute_result"
    }
   ],
   "source": [
    "number_tracks('Monday', 'Moscow')# количество прослушиваний в Москве по понедельникам"
   ]
  },
  {
   "cell_type": "code",
   "execution_count": 22,
   "metadata": {
    "id": "hq_ncZ5T_Zcu"
   },
   "outputs": [
    {
     "data": {
      "text/plain": [
       "5614"
      ]
     },
     "execution_count": 22,
     "metadata": {},
     "output_type": "execute_result"
    }
   ],
   "source": [
    "number_tracks('Monday', 'Saint-Petersburg')# количество прослушиваний в Санкт-Петербурге по понедельникам"
   ]
  },
  {
   "cell_type": "code",
   "execution_count": 23,
   "metadata": {
    "id": "_NTy2VPU_Zcu"
   },
   "outputs": [
    {
     "data": {
      "text/plain": [
       "11056"
      ]
     },
     "execution_count": 23,
     "metadata": {},
     "output_type": "execute_result"
    }
   ],
   "source": [
    "number_tracks('Wednesday', 'Moscow')# количество прослушиваний в Москве по средам"
   ]
  },
  {
   "cell_type": "code",
   "execution_count": 24,
   "metadata": {
    "id": "j2y3TAwo_Zcu"
   },
   "outputs": [
    {
     "data": {
      "text/plain": [
       "7003"
      ]
     },
     "execution_count": 24,
     "metadata": {},
     "output_type": "execute_result"
    }
   ],
   "source": [
    "number_tracks('Wednesday', 'Saint-Petersburg')# количество прослушиваний в Санкт-Петербурге по средам"
   ]
  },
  {
   "cell_type": "code",
   "execution_count": 25,
   "metadata": {
    "id": "vYDw5u_K_Zcu"
   },
   "outputs": [
    {
     "data": {
      "text/plain": [
       "15945"
      ]
     },
     "execution_count": 25,
     "metadata": {},
     "output_type": "execute_result"
    }
   ],
   "source": [
    "number_tracks('Friday', 'Moscow')# количество прослушиваний в Москве по пятницам"
   ]
  },
  {
   "cell_type": "code",
   "execution_count": 26,
   "metadata": {
    "id": "8_yzFtW3_Zcu"
   },
   "outputs": [
    {
     "data": {
      "text/plain": [
       "5895"
      ]
     },
     "execution_count": 26,
     "metadata": {},
     "output_type": "execute_result"
    }
   ],
   "source": [
    "number_tracks('Friday', 'Saint-Petersburg')# количество прослушиваний в Санкт-Петербурге по пятницам"
   ]
  },
  {
   "cell_type": "markdown",
   "metadata": {
    "id": "7QXffbO-_Zcu"
   },
   "source": [
    "Создайте c помощью конструктора `pd.DataFrame` таблицу, где\n",
    "* названия колонок — `['city', 'monday', 'wednesday', 'friday']`;\n",
    "* данные — результаты, которые вы получили с помощью `number_tracks`."
   ]
  },
  {
   "cell_type": "code",
   "execution_count": 27,
   "metadata": {
    "id": "APAcLpOr_Zcu"
   },
   "outputs": [
    {
     "data": {
      "text/html": [
       "<div>\n",
       "<style scoped>\n",
       "    .dataframe tbody tr th:only-of-type {\n",
       "        vertical-align: middle;\n",
       "    }\n",
       "\n",
       "    .dataframe tbody tr th {\n",
       "        vertical-align: top;\n",
       "    }\n",
       "\n",
       "    .dataframe thead th {\n",
       "        text-align: right;\n",
       "    }\n",
       "</style>\n",
       "<table border=\"1\" class=\"dataframe\">\n",
       "  <thead>\n",
       "    <tr style=\"text-align: right;\">\n",
       "      <th></th>\n",
       "      <th>city</th>\n",
       "      <th>monday</th>\n",
       "      <th>wednesday</th>\n",
       "      <th>friday</th>\n",
       "    </tr>\n",
       "  </thead>\n",
       "  <tbody>\n",
       "    <tr>\n",
       "      <td>0</td>\n",
       "      <td>Moscow</td>\n",
       "      <td>15740</td>\n",
       "      <td>11056</td>\n",
       "      <td>15945</td>\n",
       "    </tr>\n",
       "    <tr>\n",
       "      <td>1</td>\n",
       "      <td>Saint-Petersburg</td>\n",
       "      <td>5614</td>\n",
       "      <td>7003</td>\n",
       "      <td>5895</td>\n",
       "    </tr>\n",
       "  </tbody>\n",
       "</table>\n",
       "</div>"
      ],
      "text/plain": [
       "               city  monday  wednesday  friday\n",
       "0            Moscow   15740      11056   15945\n",
       "1  Saint-Petersburg    5614       7003    5895"
      ]
     },
     "metadata": {},
     "output_type": "display_data"
    }
   ],
   "source": [
    "data = [['Moscow', 15740, 11056, 15945],\n",
    "       ['Saint-Petersburg', 5614, 7003, 5895]]\n",
    "columns = ['city', 'monday', 'wednesday', 'friday']\n",
    "table = pd.DataFrame(data = data, columns = columns)# Таблица с результатами\n",
    "display(table)"
   ]
  },
  {
   "cell_type": "markdown",
   "metadata": {
    "id": "-EgPIHYu_Zcu"
   },
   "source": [
    "**Выводы**\n",
    "\n",
    "Данные показывают разницу поведения пользователей:\n",
    "\n",
    "- В Москве пик прослушиваний приходится на понедельник и пятницу, а в среду заметен спад.\n",
    "- В Петербурге, наоборот, больше слушают музыку по средам. Активность в понедельник и пятницу здесь почти в равной мере уступает среде.\n",
    "\n",
    "Значит, данные говорят в пользу первой гипотезы."
   ]
  },
  {
   "cell_type": "markdown",
   "metadata": {
    "id": "atZAxtq4_Zcu"
   },
   "source": [
    "### Музыка в начале и в конце недели"
   ]
  },
  {
   "cell_type": "markdown",
   "metadata": {
    "id": "eXrQqXFH_Zcu"
   },
   "source": [
    "Согласно второй гипотезе, утром в понедельник в Москве преобладают одни жанры, а в Петербурге — другие. Так же и вечером пятницы преобладают разные жанры — в зависимости от города."
   ]
  },
  {
   "cell_type": "markdown",
   "metadata": {
    "id": "S8UcW6Hw_Zcu"
   },
   "source": [
    "Сохраните таблицы с данными в две переменные:\n",
    "* по Москве — в `moscow_general`;\n",
    "* по Санкт-Петербургу — в `spb_general`."
   ]
  },
  {
   "cell_type": "code",
   "execution_count": 28,
   "metadata": {
    "id": "qeaFfM_P_Zcu"
   },
   "outputs": [],
   "source": [
    "moscow_general = df[df['city'] == 'Moscow'] # получение таблицы moscow_general из тех строк таблицы df, \n",
    "# для которых значение в столбце 'city' равно 'Moscow'"
   ]
  },
  {
   "cell_type": "code",
   "execution_count": 29,
   "metadata": {
    "id": "ORaVRKto_Zcu"
   },
   "outputs": [],
   "source": [
    "spb_general = df[df['city'] == 'Saint-Petersburg']# получение таблицы spb_general из тех строк таблицы df,\n",
    "# для которых значение в столбце 'city' равно 'Saint-Petersburg'\n"
   ]
  },
  {
   "cell_type": "markdown",
   "metadata": {
    "id": "MEJV-CX2_Zcu"
   },
   "source": [
    "Создайте функцию `genre_weekday()` с четырьмя параметрами:\n",
    "* таблица (датафрейм) с данными,\n",
    "* день недели,\n",
    "* начальная временная метка в формате 'hh:mm', \n",
    "* последняя временная метка в формате 'hh:mm'.\n",
    "\n",
    "Функция должна вернуть информацию о топ-10 жанров тех треков, которые прослушивали в указанный день, в промежутке между двумя отметками времени."
   ]
  },
  {
   "cell_type": "code",
   "execution_count": 30,
   "metadata": {
    "id": "laJT9BYl_Zcu"
   },
   "outputs": [],
   "source": [
    "def genre_weekday(table, day, time1, time2):# Объявление функции genre_weekday() с параметрами table, day, time1, time2,\n",
    "# которая возвращает информацию о самых популярных жанрах в указанный день в\n",
    "# заданное время:\n",
    "    genre_df=table[(table['day'] == day) & (table['time'] > time1) & (table['time'] < time2)]\n",
    "#1) в переменную genre_df сохраняются те строки переданного датафрейма table, для\n",
    "#    которых одновременно:\n",
    "#    - значение в столбце day равно значению аргумента day\n",
    "#    - значение в столбце time больше значения аргумента time1\n",
    "#    - значение в столбце time меньше значения аргумента time2\n",
    "#    Используйте последовательную фильтрацию с помощью логической индексации.\n",
    "    genre_df_count = genre_df.groupby('genre')['genre'].count().sort_values(ascending = False).head(10)\n",
    "# 2) сгруппировать датафрейм genre_df по столбцу genre, взять один из его\n",
    "#    столбцов и посчитать методом count() количество записей для каждого из\n",
    "#    присутствующих жанров, получившийся Series записать в переменную\n",
    "#    genre_df_count\n",
    "# 3) отсортировать genre_df_count по убыванию встречаемости и сохранить\n",
    "#    в переменную genre_df_sorted\n",
    "    return genre_df_count\n",
    "# 4) вернуть Series из 10 первых значений genre_df_sorted, это будут топ-10\n",
    "#    популярных жанров (в указанный день, в заданное время)"
   ]
  },
  {
   "cell_type": "markdown",
   "metadata": {
    "id": "la2s2_PF_Zcu"
   },
   "source": [
    "Cравните результаты функции `genre_weekday()` для Москвы и Санкт-Петербурга в понедельник утром (с 7:00 до 11:00) и в пятницу вечером (с 17:00 до 23:00):"
   ]
  },
  {
   "cell_type": "code",
   "execution_count": 31,
   "metadata": {
    "id": "yz7itPUQ_Zcu"
   },
   "outputs": [
    {
     "data": {
      "text/plain": [
       "genre\n",
       "pop            781\n",
       "dance          549\n",
       "electronic     480\n",
       "rock           474\n",
       "hiphop         286\n",
       "ruspop         186\n",
       "world          181\n",
       "rusrap         175\n",
       "alternative    164\n",
       "unknown        161\n",
       "Name: genre, dtype: int64"
      ]
     },
     "execution_count": 31,
     "metadata": {},
     "output_type": "execute_result"
    }
   ],
   "source": [
    "genre_weekday(moscow_general, 'Monday', '07:00', '11:00')# вызов функции для утра понедельника в Москве (вместо df — таблица moscow_general)\n",
    "# объекты, хранящие время, являются строками и сравниваются как строки\n",
    "# пример вызова: genre_weekday(moscow_general, 'Monday', '07:00', '11:00')"
   ]
  },
  {
   "cell_type": "code",
   "execution_count": 32,
   "metadata": {
    "id": "kwUcHPdy_Zcu"
   },
   "outputs": [
    {
     "data": {
      "text/plain": [
       "genre\n",
       "pop            218\n",
       "dance          182\n",
       "rock           162\n",
       "electronic     147\n",
       "hiphop          80\n",
       "ruspop          64\n",
       "alternative     58\n",
       "rusrap          55\n",
       "jazz            44\n",
       "classical       40\n",
       "Name: genre, dtype: int64"
      ]
     },
     "execution_count": 32,
     "metadata": {},
     "output_type": "execute_result"
    }
   ],
   "source": [
    "genre_weekday(spb_general, 'Monday', '07:00', '11:00')# вызов функции для утра понедельника в Петербурге (вместо df — таблица spb_general)"
   ]
  },
  {
   "cell_type": "code",
   "execution_count": 33,
   "metadata": {
    "id": "EzXVRE1o_Zcu"
   },
   "outputs": [
    {
     "data": {
      "text/plain": [
       "genre\n",
       "pop            713\n",
       "rock           517\n",
       "dance          495\n",
       "electronic     482\n",
       "hiphop         273\n",
       "world          208\n",
       "ruspop         170\n",
       "alternative    163\n",
       "classical      163\n",
       "rusrap         142\n",
       "Name: genre, dtype: int64"
      ]
     },
     "execution_count": 33,
     "metadata": {},
     "output_type": "execute_result"
    }
   ],
   "source": [
    "genre_weekday(moscow_general, 'Friday', '17:00', '23:00')# вызов функции для вечера пятницы в Москве"
   ]
  },
  {
   "cell_type": "code",
   "execution_count": 34,
   "metadata": {
    "id": "JZaEKu5v_Zcu"
   },
   "outputs": [
    {
     "data": {
      "text/plain": [
       "genre\n",
       "pop            256\n",
       "rock           216\n",
       "electronic     216\n",
       "dance          210\n",
       "hiphop          97\n",
       "alternative     63\n",
       "jazz            61\n",
       "classical       60\n",
       "rusrap          59\n",
       "world           54\n",
       "Name: genre, dtype: int64"
      ]
     },
     "execution_count": 34,
     "metadata": {},
     "output_type": "execute_result"
    }
   ],
   "source": [
    "genre_weekday(spb_general, 'Friday', '17:00', '23:00')# вызов функции для вечера пятницы в Петербурге"
   ]
  },
  {
   "cell_type": "markdown",
   "metadata": {
    "id": "wrCe4MNX_Zcu"
   },
   "source": [
    "**Выводы**\n",
    "\n",
    "Если сравнить топ-10 жанров в понедельник утром, можно сделать такие выводы:\n",
    "\n",
    "1. В Москве и Петербурге слушают похожую музыку. Единственное отличие — в московский рейтинг вошёл жанр “world”, а в петербургский — джаз и классика.\n",
    "\n",
    "2. В Москве пропущенных значений оказалось так много, что значение `'unknown'` заняло десятое место среди самых популярных жанров. Значит, пропущенные значения занимают существенную долю в данных и угрожают достоверности исследования.\n",
    "\n",
    "Вечер пятницы не меняет эту картину. Некоторые жанры поднимаются немного выше, другие спускаются, но в целом топ-10 остаётся тем же самым.\n",
    "\n",
    "Таким образом, вторая гипотеза подтвердилась лишь частично:\n",
    "* Пользователи слушают похожую музыку в начале недели и в конце.\n",
    "* Разница между Москвой и Петербургом не слишком выражена. В Москве чаще слушают русскую популярную музыку, в Петербурге — джаз.\n",
    "\n",
    "Однако пропуски в данных ставят под сомнение этот результат. В Москве их так много, что рейтинг топ-10 мог бы выглядеть иначе, если бы не утерянные  данные о жанрах."
   ]
  },
  {
   "cell_type": "markdown",
   "metadata": {
    "id": "JolODAqr_Zcu"
   },
   "source": [
    "### Жанровые предпочтения в Москве и Петербурге\n",
    "\n",
    "Гипотеза: Петербург — столица рэпа, музыку этого жанра там слушают чаще, чем в Москве.  А Москва — город контрастов, в котором, тем не менее, преобладает поп-музыка."
   ]
  },
  {
   "cell_type": "markdown",
   "metadata": {
    "id": "DlegSvaT_Zcu"
   },
   "source": [
    "Сгруппируйте таблицу `moscow_general` по жанру и посчитайте прослушивания треков каждого жанра методом `count()`. Затем отсортируйте результат в порядке убывания и сохраните его в таблице `moscow_genres`."
   ]
  },
  {
   "cell_type": "code",
   "execution_count": 35,
   "metadata": {
    "id": "r19lIPke_Zcu"
   },
   "outputs": [],
   "source": [
    "moscow_genres=moscow_general.groupby('genre')['genre'].count().sort_values(ascending = False)# одной строкой: группировка таблицы moscow_general по столбцу 'genre', \n",
    "# подсчёт числа значений 'genre' в этой группировке методом count(), \n",
    "# сортировка получившегося Series в порядке убывания и сохранение в moscow_genres"
   ]
  },
  {
   "cell_type": "markdown",
   "metadata": {
    "id": "6kMuomxTiIr8"
   },
   "source": [
    "Выведите на экран первые десять строк `moscow_genres`:"
   ]
  },
  {
   "cell_type": "code",
   "execution_count": 36,
   "metadata": {
    "id": "WhCSooF8_Zcv"
   },
   "outputs": [
    {
     "data": {
      "text/plain": [
       "genre\n",
       "pop            5892\n",
       "dance          4435\n",
       "rock           3965\n",
       "electronic     3786\n",
       "hiphop         2096\n",
       "classical      1616\n",
       "world          1432\n",
       "alternative    1379\n",
       "ruspop         1372\n",
       "rusrap         1161\n",
       "Name: genre, dtype: int64"
      ]
     },
     "execution_count": 36,
     "metadata": {},
     "output_type": "execute_result"
    }
   ],
   "source": [
    "moscow_genres.head(10)# просмотр первых 10 строк moscow_genres"
   ]
  },
  {
   "cell_type": "markdown",
   "metadata": {
    "id": "cnPG2vnN_Zcv"
   },
   "source": [
    "Теперь повторите то же и для Петербурга.\n",
    "\n",
    "Сгруппируйте таблицу `spb_general` по жанру. Посчитайте прослушивания треков каждого жанра. Результат отсортируйте в порядке убывания и сохраните в таблице `spb_genres`:\n"
   ]
  },
  {
   "cell_type": "code",
   "execution_count": 37,
   "metadata": {
    "id": "gluLIpE7_Zcv"
   },
   "outputs": [],
   "source": [
    "spb_genres=spb_general.groupby('genre')['genre'].count().sort_values(ascending = False)# одной строкой: группировка таблицы spb_general по столбцу 'genre', \n",
    "# подсчёт числа значений 'genre' в этой группировке методом count(), \n",
    "# сортировка получившегося Series в порядке убывания и сохранение в spb_genres"
   ]
  },
  {
   "cell_type": "markdown",
   "metadata": {
    "id": "5Doha_ODgyQ8"
   },
   "source": [
    "Выведите на экран первые десять строк `spb_genres`:"
   ]
  },
  {
   "cell_type": "code",
   "execution_count": 38,
   "metadata": {
    "id": "uaGJHjVU_Zcv"
   },
   "outputs": [
    {
     "data": {
      "text/plain": [
       "genre\n",
       "pop            2431\n",
       "dance          1932\n",
       "rock           1879\n",
       "electronic     1736\n",
       "hiphop          960\n",
       "alternative     649\n",
       "classical       646\n",
       "rusrap          564\n",
       "ruspop          538\n",
       "world           515\n",
       "Name: genre, dtype: int64"
      ]
     },
     "execution_count": 38,
     "metadata": {},
     "output_type": "execute_result"
    }
   ],
   "source": [
    "spb_genres.head(10)# просмотр первых 10 строк spb_genres"
   ]
  },
  {
   "cell_type": "markdown",
   "metadata": {
    "id": "RY51YJYu_Zcv"
   },
   "source": [
    "**Выводы**"
   ]
  },
  {
   "cell_type": "markdown",
   "metadata": {
    "id": "nVhnJEm__Zcv"
   },
   "source": [
    "Гипотеза частично подтвердилась:\n",
    "* Поп-музыка — самый популярный жанр в Москве, как и предполагала гипотеза. Более того, в топ-10 жанров встречается близкий жанр — русская популярная музыка.\n",
    "* Вопреки ожиданиям, рэп одинаково популярен в Москве и Петербурге. \n"
   ]
  },
  {
   "cell_type": "markdown",
   "metadata": {
    "id": "ykKQ0N65_Zcv"
   },
   "source": [
    "## Итоги исследования"
   ]
  },
  {
   "cell_type": "markdown",
   "metadata": {
    "id": "tjUwbHb3_Zcv"
   },
   "source": [
    "Вы проверили три гипотезы и установили:\n",
    "\n",
    "1. День недели по-разному влияет на активность пользователей в Москве и Петербурге. \n",
    "\n",
    "Первая гипотеза полностью подтвердилась.\n",
    "\n",
    "2. Музыкальные предпочтения не сильно меняются в течение недели — будь то Москва или Петербург. Небольшие различия заметны в начале недели, по понедельникам:\n",
    "* в Москве слушают музыку жанра “world”,\n",
    "* в Петербурге — джаз и классику.\n",
    "\n",
    "Таким образом, вторая гипотеза подтвердилась лишь отчасти. Этот результат мог оказаться иным, если бы не пропуски в данных.\n",
    "\n",
    "3. Во вкусах пользователей Москвы и Петербурга больше общего чем различий. Вопреки ожиданиям, предпочтения жанров в Петербурге напоминают московские.\n",
    "\n",
    "Третья гипотеза не подтвердилась. Если различия в предпочтениях и существуют, на основной массе пользователей они незаметны.\n",
    "\n",
    "**На практике исследования содержат проверки статистических гипотез.**\n",
    "Из данных одного сервиса не всегда можно сделать вывод о всех жителях города.\n",
    "Проверки статистических гипотез покажут, насколько они достоверны, исходя из имеющихся данных. \n",
    "С методами проверок гипотез вы ещё познакомитесь в следующих темах."
   ]
  }
 ],
 "metadata": {
  "ExecuteTimeLog": [
   {
    "duration": 622,
    "start_time": "2021-11-21T14:51:43.830Z"
   },
   {
    "duration": 144,
    "start_time": "2021-11-21T14:51:45.434Z"
   },
   {
    "duration": 18,
    "start_time": "2021-11-21T14:51:47.165Z"
   },
   {
    "duration": 9,
    "start_time": "2021-11-21T14:52:07.023Z"
   },
   {
    "duration": 23,
    "start_time": "2021-11-21T14:52:11.862Z"
   },
   {
    "duration": 4,
    "start_time": "2021-11-21T14:53:06.147Z"
   },
   {
    "duration": 4,
    "start_time": "2021-11-21T14:57:24.379Z"
   },
   {
    "duration": 19,
    "start_time": "2021-11-21T14:57:31.597Z"
   },
   {
    "duration": 4,
    "start_time": "2021-11-21T14:57:34.070Z"
   },
   {
    "duration": 28,
    "start_time": "2021-11-21T14:58:43.653Z"
   },
   {
    "duration": 22,
    "start_time": "2021-11-21T14:59:10.419Z"
   },
   {
    "duration": 7662,
    "start_time": "2021-11-21T15:08:06.289Z"
   },
   {
    "duration": 6991,
    "start_time": "2021-11-21T15:08:47.964Z"
   },
   {
    "duration": 7067,
    "start_time": "2021-11-21T15:11:10.725Z"
   },
   {
    "duration": 44,
    "start_time": "2021-11-21T15:12:14.493Z"
   },
   {
    "duration": 23,
    "start_time": "2021-11-21T15:12:27.886Z"
   },
   {
    "duration": 261,
    "start_time": "2021-11-21T15:13:07.586Z"
   },
   {
    "duration": 260,
    "start_time": "2021-11-21T15:13:10.382Z"
   },
   {
    "duration": 59,
    "start_time": "2021-11-21T15:13:15.267Z"
   },
   {
    "duration": 56,
    "start_time": "2021-11-21T15:13:41.240Z"
   },
   {
    "duration": 67,
    "start_time": "2021-11-21T15:15:05.168Z"
   },
   {
    "duration": 54,
    "start_time": "2021-11-21T15:15:14.515Z"
   },
   {
    "duration": 97,
    "start_time": "2021-11-21T15:17:33.162Z"
   },
   {
    "duration": 7,
    "start_time": "2021-11-21T15:17:37.948Z"
   },
   {
    "duration": 7,
    "start_time": "2021-11-21T15:17:54.026Z"
   },
   {
    "duration": 7,
    "start_time": "2021-11-21T15:18:04.075Z"
   },
   {
    "duration": 22,
    "start_time": "2021-11-21T15:18:21.812Z"
   },
   {
    "duration": 23,
    "start_time": "2021-11-21T15:18:23.790Z"
   },
   {
    "duration": 23,
    "start_time": "2021-11-21T15:18:29.855Z"
   },
   {
    "duration": 4,
    "start_time": "2021-11-21T15:25:40.722Z"
   },
   {
    "duration": 260,
    "start_time": "2021-11-21T15:27:44.638Z"
   },
   {
    "duration": 256,
    "start_time": "2021-11-21T15:28:07.743Z"
   },
   {
    "duration": 500,
    "start_time": "2021-11-21T15:28:13.707Z"
   },
   {
    "duration": 2,
    "start_time": "2021-11-21T15:28:33.100Z"
   },
   {
    "duration": 657,
    "start_time": "2021-11-21T15:28:35.262Z"
   },
   {
    "duration": 3,
    "start_time": "2021-11-21T15:29:29.284Z"
   },
   {
    "duration": 529,
    "start_time": "2021-11-21T15:29:36.313Z"
   },
   {
    "duration": 1017,
    "start_time": "2021-11-21T15:30:37.583Z"
   },
   {
    "duration": 3,
    "start_time": "2021-11-21T15:31:30.542Z"
   },
   {
    "duration": 16,
    "start_time": "2021-11-21T15:31:32.256Z"
   },
   {
    "duration": 8,
    "start_time": "2021-11-21T15:31:51.394Z"
   },
   {
    "duration": 333,
    "start_time": "2021-11-21T15:35:04.028Z"
   },
   {
    "duration": 11,
    "start_time": "2021-11-21T15:35:11.007Z"
   },
   {
    "duration": 263,
    "start_time": "2021-11-21T15:37:19.153Z"
   },
   {
    "duration": 279,
    "start_time": "2021-11-21T15:37:22.783Z"
   },
   {
    "duration": 10,
    "start_time": "2021-11-21T15:38:04.614Z"
   },
   {
    "duration": 98,
    "start_time": "2021-11-21T15:46:09.451Z"
   },
   {
    "duration": 4,
    "start_time": "2021-11-21T15:46:18.611Z"
   },
   {
    "duration": 326,
    "start_time": "2021-11-21T15:46:34.473Z"
   },
   {
    "duration": 17,
    "start_time": "2021-11-21T15:46:43.119Z"
   },
   {
    "duration": 280,
    "start_time": "2021-11-21T15:47:28.775Z"
   },
   {
    "duration": 14,
    "start_time": "2021-11-21T15:47:32.819Z"
   },
   {
    "duration": 12,
    "start_time": "2021-11-21T15:47:44.610Z"
   },
   {
    "duration": 15,
    "start_time": "2021-11-21T15:47:56.607Z"
   },
   {
    "duration": 14,
    "start_time": "2021-11-21T15:48:25.877Z"
   },
   {
    "duration": 145,
    "start_time": "2021-11-21T15:48:59.644Z"
   },
   {
    "duration": 15,
    "start_time": "2021-11-21T15:49:02.673Z"
   },
   {
    "duration": 14,
    "start_time": "2021-11-21T15:49:05.243Z"
   },
   {
    "duration": 298,
    "start_time": "2021-11-21T15:50:39.253Z"
   },
   {
    "duration": 274,
    "start_time": "2021-11-21T15:50:49.713Z"
   },
   {
    "duration": 297,
    "start_time": "2021-11-21T15:51:19.239Z"
   },
   {
    "duration": 275,
    "start_time": "2021-11-21T15:51:33.769Z"
   },
   {
    "duration": 273,
    "start_time": "2021-11-21T15:52:17.664Z"
   },
   {
    "duration": 367,
    "start_time": "2021-11-21T15:54:28.510Z"
   },
   {
    "duration": 447,
    "start_time": "2021-11-21T15:55:45.398Z"
   },
   {
    "duration": 280,
    "start_time": "2021-11-21T15:56:19.203Z"
   },
   {
    "duration": 6,
    "start_time": "2021-11-21T15:57:27.271Z"
   },
   {
    "duration": 6,
    "start_time": "2021-11-21T15:57:38.986Z"
   },
   {
    "duration": 8,
    "start_time": "2021-11-21T15:57:51.408Z"
   },
   {
    "duration": 14,
    "start_time": "2021-11-21T16:08:11.991Z"
   },
   {
    "duration": 12,
    "start_time": "2021-11-21T16:08:16.466Z"
   },
   {
    "duration": 23,
    "start_time": "2021-11-21T16:09:35.051Z"
   },
   {
    "duration": 11,
    "start_time": "2021-11-21T16:09:43.384Z"
   },
   {
    "duration": 89,
    "start_time": "2021-11-21T16:14:50.509Z"
   },
   {
    "duration": 99,
    "start_time": "2021-11-21T16:14:57.303Z"
   },
   {
    "duration": 5,
    "start_time": "2021-11-21T16:15:01.634Z"
   },
   {
    "duration": 51,
    "start_time": "2021-11-21T16:16:01.494Z"
   },
   {
    "duration": 5,
    "start_time": "2021-11-21T16:16:26.718Z"
   },
   {
    "duration": 606,
    "start_time": "2021-11-21T16:16:28.515Z"
   },
   {
    "duration": 4,
    "start_time": "2021-11-21T16:18:08.259Z"
   },
   {
    "duration": 610,
    "start_time": "2021-11-21T16:18:10.419Z"
   },
   {
    "duration": 4,
    "start_time": "2021-11-21T16:19:02.113Z"
   },
   {
    "duration": 534,
    "start_time": "2021-11-21T16:19:36.631Z"
   },
   {
    "duration": 12,
    "start_time": "2021-11-21T16:20:40.614Z"
   },
   {
    "duration": 10,
    "start_time": "2021-11-21T16:20:41.840Z"
   },
   {
    "duration": 3,
    "start_time": "2021-11-21T16:20:44.228Z"
   },
   {
    "duration": 649,
    "start_time": "2021-11-21T16:20:45.939Z"
   },
   {
    "duration": 11,
    "start_time": "2021-11-21T16:20:54.912Z"
   },
   {
    "duration": 12,
    "start_time": "2021-11-21T16:20:55.912Z"
   },
   {
    "duration": 3,
    "start_time": "2021-11-21T16:20:57.141Z"
   },
   {
    "duration": 556,
    "start_time": "2021-11-21T16:41:41.451Z"
   },
   {
    "duration": 533,
    "start_time": "2021-11-21T16:42:27.844Z"
   },
   {
    "duration": 93,
    "start_time": "2021-11-21T16:42:30.879Z"
   },
   {
    "duration": 4,
    "start_time": "2021-11-21T16:42:38.348Z"
   },
   {
    "duration": 532,
    "start_time": "2021-11-21T16:42:40.433Z"
   },
   {
    "duration": 4,
    "start_time": "2021-11-21T16:42:43.556Z"
   },
   {
    "duration": 5,
    "start_time": "2021-11-21T16:44:18.682Z"
   },
   {
    "duration": 4,
    "start_time": "2021-11-21T16:44:43.202Z"
   },
   {
    "duration": 17,
    "start_time": "2021-11-21T16:44:45.890Z"
   },
   {
    "duration": 16,
    "start_time": "2021-11-21T16:45:53.487Z"
   },
   {
    "duration": 20,
    "start_time": "2021-11-21T16:46:13.369Z"
   },
   {
    "duration": 13,
    "start_time": "2021-11-21T16:46:26.429Z"
   },
   {
    "duration": 23,
    "start_time": "2021-11-21T16:47:10.180Z"
   },
   {
    "duration": 23,
    "start_time": "2021-11-21T16:47:15.950Z"
   },
   {
    "duration": 10,
    "start_time": "2021-11-21T16:49:38.502Z"
   },
   {
    "duration": 6,
    "start_time": "2021-11-21T16:49:49.576Z"
   },
   {
    "duration": 5,
    "start_time": "2021-11-21T16:50:01.707Z"
   },
   {
    "duration": 8,
    "start_time": "2021-11-21T16:50:06.400Z"
   },
   {
    "duration": 6,
    "start_time": "2021-11-21T16:50:36.508Z"
   },
   {
    "duration": 5,
    "start_time": "2021-11-21T16:50:45.340Z"
   },
   {
    "duration": 776,
    "start_time": "2021-11-22T05:12:01.671Z"
   },
   {
    "duration": 195,
    "start_time": "2021-11-22T05:12:02.449Z"
   },
   {
    "duration": 26,
    "start_time": "2021-11-22T05:12:02.647Z"
   },
   {
    "duration": 48,
    "start_time": "2021-11-22T05:12:02.676Z"
   },
   {
    "duration": 7,
    "start_time": "2021-11-22T05:12:02.727Z"
   },
   {
    "duration": 32,
    "start_time": "2021-11-22T05:12:02.736Z"
   },
   {
    "duration": 29,
    "start_time": "2021-11-22T05:12:02.771Z"
   },
   {
    "duration": 35,
    "start_time": "2021-11-22T05:12:02.804Z"
   },
   {
    "duration": 82,
    "start_time": "2021-11-22T05:12:02.844Z"
   },
   {
    "duration": 34,
    "start_time": "2021-11-22T05:12:02.928Z"
   },
   {
    "duration": 110,
    "start_time": "2021-11-22T05:12:02.965Z"
   },
   {
    "duration": 107,
    "start_time": "2021-11-22T05:12:03.078Z"
   },
   {
    "duration": 88,
    "start_time": "2021-11-22T05:12:03.188Z"
   },
   {
    "duration": 27,
    "start_time": "2021-11-22T05:12:03.279Z"
   },
   {
    "duration": 8,
    "start_time": "2021-11-22T05:12:03.309Z"
   },
   {
    "duration": 25,
    "start_time": "2021-11-22T05:12:03.320Z"
   },
   {
    "duration": 11,
    "start_time": "2021-11-22T05:12:03.347Z"
   },
   {
    "duration": 54,
    "start_time": "2021-11-22T05:12:03.361Z"
   },
   {
    "duration": 15,
    "start_time": "2021-11-22T05:12:03.418Z"
   },
   {
    "duration": 7,
    "start_time": "2021-11-22T05:12:03.436Z"
   },
   {
    "duration": 65,
    "start_time": "2021-11-22T05:12:03.445Z"
   },
   {
    "duration": 20,
    "start_time": "2021-11-22T05:12:03.514Z"
   },
   {
    "duration": 21,
    "start_time": "2021-11-22T05:12:03.541Z"
   },
   {
    "duration": 47,
    "start_time": "2021-11-22T05:12:03.566Z"
   },
   {
    "duration": 23,
    "start_time": "2021-11-22T05:12:03.615Z"
   },
   {
    "duration": 17,
    "start_time": "2021-11-22T05:12:03.640Z"
   },
   {
    "duration": 47,
    "start_time": "2021-11-22T05:12:03.659Z"
   },
   {
    "duration": 20,
    "start_time": "2021-11-22T05:12:03.708Z"
   },
   {
    "duration": 11,
    "start_time": "2021-11-22T05:12:03.730Z"
   },
   {
    "duration": 5,
    "start_time": "2021-11-22T05:12:03.744Z"
   },
   {
    "duration": 57,
    "start_time": "2021-11-22T05:12:03.751Z"
   },
   {
    "duration": 20,
    "start_time": "2021-11-22T05:12:03.810Z"
   },
   {
    "duration": 23,
    "start_time": "2021-11-22T05:12:03.832Z"
   },
   {
    "duration": 46,
    "start_time": "2021-11-22T05:12:03.858Z"
   },
   {
    "duration": 14,
    "start_time": "2021-11-22T05:12:03.906Z"
   },
   {
    "duration": 7,
    "start_time": "2021-11-22T05:12:03.923Z"
   },
   {
    "duration": 12,
    "start_time": "2021-11-22T05:12:03.932Z"
   },
   {
    "duration": 7,
    "start_time": "2021-11-22T05:12:03.946Z"
   },
   {
    "duration": 353,
    "start_time": "2021-11-22T21:50:24.226Z"
   },
   {
    "duration": 312,
    "start_time": "2021-11-22T21:52:25.301Z"
   },
   {
    "duration": 392,
    "start_time": "2021-11-22T21:53:42.066Z"
   },
   {
    "duration": 816,
    "start_time": "2021-11-22T21:54:19.860Z"
   },
   {
    "duration": 297,
    "start_time": "2021-11-22T21:54:20.682Z"
   },
   {
    "duration": 34,
    "start_time": "2021-11-22T21:54:20.983Z"
   },
   {
    "duration": 32,
    "start_time": "2021-11-22T21:54:21.020Z"
   },
   {
    "duration": 30,
    "start_time": "2021-11-22T21:54:21.055Z"
   },
   {
    "duration": 31,
    "start_time": "2021-11-22T21:54:21.088Z"
   },
   {
    "duration": 12,
    "start_time": "2021-11-22T21:54:21.121Z"
   },
   {
    "duration": 71,
    "start_time": "2021-11-22T21:54:21.136Z"
   },
   {
    "duration": 7365,
    "start_time": "2021-11-22T21:54:21.210Z"
   },
   {
    "duration": 7494,
    "start_time": "2021-11-22T21:54:21.085Z"
   },
   {
    "duration": 7493,
    "start_time": "2021-11-22T21:54:21.087Z"
   },
   {
    "duration": 7494,
    "start_time": "2021-11-22T21:54:21.088Z"
   },
   {
    "duration": 7493,
    "start_time": "2021-11-22T21:54:21.090Z"
   },
   {
    "duration": 7493,
    "start_time": "2021-11-22T21:54:21.092Z"
   },
   {
    "duration": 7489,
    "start_time": "2021-11-22T21:54:21.097Z"
   },
   {
    "duration": 7489,
    "start_time": "2021-11-22T21:54:21.099Z"
   },
   {
    "duration": 7489,
    "start_time": "2021-11-22T21:54:21.100Z"
   },
   {
    "duration": 7488,
    "start_time": "2021-11-22T21:54:21.102Z"
   },
   {
    "duration": 7489,
    "start_time": "2021-11-22T21:54:21.103Z"
   },
   {
    "duration": 7485,
    "start_time": "2021-11-22T21:54:21.108Z"
   },
   {
    "duration": 7485,
    "start_time": "2021-11-22T21:54:21.110Z"
   },
   {
    "duration": 7484,
    "start_time": "2021-11-22T21:54:21.112Z"
   },
   {
    "duration": 7483,
    "start_time": "2021-11-22T21:54:21.114Z"
   },
   {
    "duration": 7481,
    "start_time": "2021-11-22T21:54:21.117Z"
   },
   {
    "duration": 7480,
    "start_time": "2021-11-22T21:54:21.120Z"
   },
   {
    "duration": 7474,
    "start_time": "2021-11-22T21:54:21.127Z"
   },
   {
    "duration": 7423,
    "start_time": "2021-11-22T21:54:21.179Z"
   },
   {
    "duration": 7421,
    "start_time": "2021-11-22T21:54:21.182Z"
   },
   {
    "duration": 7407,
    "start_time": "2021-11-22T21:54:21.197Z"
   },
   {
    "duration": 7400,
    "start_time": "2021-11-22T21:54:21.206Z"
   },
   {
    "duration": 7393,
    "start_time": "2021-11-22T21:54:21.214Z"
   },
   {
    "duration": 7392,
    "start_time": "2021-11-22T21:54:21.216Z"
   },
   {
    "duration": 7392,
    "start_time": "2021-11-22T21:54:21.218Z"
   },
   {
    "duration": 7382,
    "start_time": "2021-11-22T21:54:21.229Z"
   },
   {
    "duration": 7380,
    "start_time": "2021-11-22T21:54:21.232Z"
   },
   {
    "duration": 7380,
    "start_time": "2021-11-22T21:54:21.234Z"
   },
   {
    "duration": 7377,
    "start_time": "2021-11-22T21:54:21.238Z"
   },
   {
    "duration": 7372,
    "start_time": "2021-11-22T21:54:21.244Z"
   },
   {
    "duration": 7496,
    "start_time": "2021-11-22T21:54:56.664Z"
   },
   {
    "duration": 7354,
    "start_time": "2021-11-22T21:55:06.251Z"
   },
   {
    "duration": 7620,
    "start_time": "2021-11-22T21:55:16.328Z"
   },
   {
    "duration": 9459,
    "start_time": "2021-11-22T21:55:36.479Z"
   },
   {
    "duration": 299,
    "start_time": "2021-11-22T21:56:49.443Z"
   },
   {
    "duration": 306,
    "start_time": "2021-11-22T21:56:52.773Z"
   },
   {
    "duration": 384,
    "start_time": "2021-11-22T21:56:59.566Z"
   },
   {
    "duration": 838,
    "start_time": "2021-11-22T21:57:10.787Z"
   },
   {
    "duration": 311,
    "start_time": "2021-11-22T21:58:35.548Z"
   },
   {
    "duration": 121,
    "start_time": "2021-11-22T22:08:32.585Z"
   },
   {
    "duration": 7712,
    "start_time": "2021-11-22T22:08:46.620Z"
   },
   {
    "duration": 24,
    "start_time": "2021-11-22T22:09:11.790Z"
   },
   {
    "duration": 3,
    "start_time": "2021-11-22T22:10:43.775Z"
   },
   {
    "duration": 112,
    "start_time": "2021-11-22T22:12:41.973Z"
   },
   {
    "duration": 169,
    "start_time": "2021-11-22T22:12:59.695Z"
   },
   {
    "duration": 772,
    "start_time": "2021-11-22T22:13:36.813Z"
   },
   {
    "duration": 103,
    "start_time": "2021-11-22T22:14:48.436Z"
   },
   {
    "duration": 114,
    "start_time": "2021-11-22T22:15:11.458Z"
   },
   {
    "duration": 97,
    "start_time": "2021-11-22T22:15:19.900Z"
   },
   {
    "duration": 487,
    "start_time": "2021-11-22T22:17:35.720Z"
   },
   {
    "duration": 983,
    "start_time": "2021-11-22T22:18:36.783Z"
   },
   {
    "duration": 314,
    "start_time": "2021-11-22T22:18:52.134Z"
   },
   {
    "duration": 324,
    "start_time": "2021-11-22T22:19:10.590Z"
   },
   {
    "duration": 60,
    "start_time": "2021-11-22T22:19:16.970Z"
   },
   {
    "duration": 59,
    "start_time": "2021-11-22T22:21:33.026Z"
   },
   {
    "duration": 93,
    "start_time": "2021-11-22T22:21:49.855Z"
   },
   {
    "duration": 742,
    "start_time": "2021-11-22T22:24:07.512Z"
   },
   {
    "duration": 199,
    "start_time": "2021-11-22T22:24:08.257Z"
   },
   {
    "duration": 31,
    "start_time": "2021-11-22T22:24:08.459Z"
   },
   {
    "duration": 33,
    "start_time": "2021-11-22T22:24:08.493Z"
   },
   {
    "duration": 9,
    "start_time": "2021-11-22T22:24:08.528Z"
   },
   {
    "duration": 57,
    "start_time": "2021-11-22T22:24:08.539Z"
   },
   {
    "duration": 5,
    "start_time": "2021-11-22T22:24:08.598Z"
   },
   {
    "duration": 35,
    "start_time": "2021-11-22T22:24:08.606Z"
   },
   {
    "duration": 47,
    "start_time": "2021-11-22T22:24:08.645Z"
   },
   {
    "duration": 31,
    "start_time": "2021-11-22T22:24:08.696Z"
   },
   {
    "duration": 111,
    "start_time": "2021-11-22T22:24:08.730Z"
   },
   {
    "duration": 111,
    "start_time": "2021-11-22T22:24:08.843Z"
   },
   {
    "duration": 90,
    "start_time": "2021-11-22T22:24:08.956Z"
   },
   {
    "duration": 61,
    "start_time": "2021-11-22T22:24:09.048Z"
   },
   {
    "duration": 3,
    "start_time": "2021-11-22T22:24:09.112Z"
   },
   {
    "duration": 25,
    "start_time": "2021-11-22T22:24:09.118Z"
   },
   {
    "duration": 76,
    "start_time": "2021-11-22T22:24:09.145Z"
   },
   {
    "duration": 14,
    "start_time": "2021-11-22T22:24:09.224Z"
   },
   {
    "duration": 13,
    "start_time": "2021-11-22T22:24:09.240Z"
   },
   {
    "duration": 5,
    "start_time": "2021-11-22T22:24:09.283Z"
   },
   {
    "duration": 23,
    "start_time": "2021-11-22T22:24:09.291Z"
   },
   {
    "duration": 19,
    "start_time": "2021-11-22T22:24:09.316Z"
   },
   {
    "duration": 63,
    "start_time": "2021-11-22T22:24:09.337Z"
   },
   {
    "duration": 20,
    "start_time": "2021-11-22T22:24:09.403Z"
   },
   {
    "duration": 58,
    "start_time": "2021-11-22T22:24:09.426Z"
   },
   {
    "duration": 21,
    "start_time": "2021-11-22T22:24:09.486Z"
   },
   {
    "duration": 15,
    "start_time": "2021-11-22T22:24:09.511Z"
   },
   {
    "duration": 52,
    "start_time": "2021-11-22T22:24:09.530Z"
   },
   {
    "duration": 14,
    "start_time": "2021-11-22T22:24:09.585Z"
   },
   {
    "duration": 7,
    "start_time": "2021-11-22T22:24:09.602Z"
   },
   {
    "duration": 27,
    "start_time": "2021-11-22T22:24:09.612Z"
   },
   {
    "duration": 50,
    "start_time": "2021-11-22T22:24:09.642Z"
   },
   {
    "duration": 23,
    "start_time": "2021-11-22T22:24:09.694Z"
   },
   {
    "duration": 17,
    "start_time": "2021-11-22T22:24:09.719Z"
   },
   {
    "duration": 49,
    "start_time": "2021-11-22T22:24:09.738Z"
   },
   {
    "duration": 5,
    "start_time": "2021-11-22T22:24:09.790Z"
   },
   {
    "duration": 10,
    "start_time": "2021-11-22T22:24:09.798Z"
   },
   {
    "duration": 6,
    "start_time": "2021-11-22T22:24:09.811Z"
   },
   {
    "duration": 549,
    "start_time": "2021-11-23T04:32:14.216Z"
   },
   {
    "duration": 138,
    "start_time": "2021-11-23T04:32:14.767Z"
   },
   {
    "duration": 16,
    "start_time": "2021-11-23T04:32:14.908Z"
   },
   {
    "duration": 26,
    "start_time": "2021-11-23T04:32:14.926Z"
   },
   {
    "duration": 12,
    "start_time": "2021-11-23T04:32:14.954Z"
   },
   {
    "duration": 23,
    "start_time": "2021-11-23T04:32:14.968Z"
   },
   {
    "duration": 4,
    "start_time": "2021-11-23T04:32:14.993Z"
   },
   {
    "duration": 25,
    "start_time": "2021-11-23T04:32:15.000Z"
   },
   {
    "duration": 44,
    "start_time": "2021-11-23T04:32:15.028Z"
   },
   {
    "duration": 23,
    "start_time": "2021-11-23T04:32:15.074Z"
   },
   {
    "duration": 73,
    "start_time": "2021-11-23T04:32:15.099Z"
   },
   {
    "duration": 78,
    "start_time": "2021-11-23T04:32:15.174Z"
   },
   {
    "duration": 62,
    "start_time": "2021-11-23T04:32:15.254Z"
   },
   {
    "duration": 51,
    "start_time": "2021-11-23T04:32:15.318Z"
   },
   {
    "duration": 3,
    "start_time": "2021-11-23T04:32:15.370Z"
   },
   {
    "duration": 16,
    "start_time": "2021-11-23T04:32:15.375Z"
   },
   {
    "duration": 38,
    "start_time": "2021-11-23T04:32:15.392Z"
   },
   {
    "duration": 35,
    "start_time": "2021-11-23T04:32:15.431Z"
   },
   {
    "duration": 9,
    "start_time": "2021-11-23T04:32:15.468Z"
   },
   {
    "duration": 3,
    "start_time": "2021-11-23T04:32:15.479Z"
   },
   {
    "duration": 21,
    "start_time": "2021-11-23T04:32:15.483Z"
   },
   {
    "duration": 14,
    "start_time": "2021-11-23T04:32:15.506Z"
   },
   {
    "duration": 41,
    "start_time": "2021-11-23T04:32:15.523Z"
   },
   {
    "duration": 15,
    "start_time": "2021-11-23T04:32:15.566Z"
   },
   {
    "duration": 16,
    "start_time": "2021-11-23T04:32:15.583Z"
   },
   {
    "duration": 14,
    "start_time": "2021-11-23T04:32:15.600Z"
   },
   {
    "duration": 8,
    "start_time": "2021-11-23T04:32:15.616Z"
   },
   {
    "duration": 40,
    "start_time": "2021-11-23T04:32:15.626Z"
   },
   {
    "duration": 14,
    "start_time": "2021-11-23T04:32:15.668Z"
   },
   {
    "duration": 5,
    "start_time": "2021-11-23T04:32:15.684Z"
   },
   {
    "duration": 25,
    "start_time": "2021-11-23T04:32:15.690Z"
   },
   {
    "duration": 11,
    "start_time": "2021-11-23T04:32:15.717Z"
   },
   {
    "duration": 17,
    "start_time": "2021-11-23T04:32:15.729Z"
   },
   {
    "duration": 27,
    "start_time": "2021-11-23T04:32:15.747Z"
   },
   {
    "duration": 11,
    "start_time": "2021-11-23T04:32:15.776Z"
   },
   {
    "duration": 14,
    "start_time": "2021-11-23T04:32:15.788Z"
   },
   {
    "duration": 13,
    "start_time": "2021-11-23T04:32:15.803Z"
   },
   {
    "duration": 9,
    "start_time": "2021-11-23T04:32:15.817Z"
   },
   {
    "duration": 5,
    "start_time": "2021-11-23T04:36:36.402Z"
   },
   {
    "duration": 39,
    "start_time": "2021-11-23T04:39:23.581Z"
   },
   {
    "duration": 91,
    "start_time": "2021-11-23T04:39:28.455Z"
   },
   {
    "duration": 110,
    "start_time": "2021-11-23T04:39:30.801Z"
   },
   {
    "duration": 291,
    "start_time": "2021-11-23T04:39:36.009Z"
   },
   {
    "duration": 6,
    "start_time": "2021-11-23T04:40:04.873Z"
   },
   {
    "duration": 4,
    "start_time": "2021-11-23T04:41:15.307Z"
   },
   {
    "duration": 232,
    "start_time": "2021-11-23T04:41:39.763Z"
   },
   {
    "duration": 227,
    "start_time": "2021-11-23T04:41:51.215Z"
   },
   {
    "duration": 4,
    "start_time": "2021-11-23T04:43:53.304Z"
   }
  ],
  "colab": {
   "collapsed_sections": [
    "E0vqbgi9ay0H",
    "VUC88oWjTJw2"
   ],
   "name": "yandex_music_project_2021.2.ipynb",
   "provenance": []
  },
  "kernelspec": {
   "display_name": "Python 3",
   "language": "python",
   "name": "python3"
  },
  "language_info": {
   "codemirror_mode": {
    "name": "ipython",
    "version": 3
   },
   "file_extension": ".py",
   "mimetype": "text/x-python",
   "name": "python",
   "nbconvert_exporter": "python",
   "pygments_lexer": "ipython3",
   "version": "3.9.1"
  },
  "toc": {
   "base_numbering": 1,
   "nav_menu": {},
   "number_sections": true,
   "sideBar": true,
   "skip_h1_title": true,
   "title_cell": "Table of Contents",
   "title_sidebar": "Contents",
   "toc_cell": false,
   "toc_position": {},
   "toc_section_display": true,
   "toc_window_display": true
  }
 },
 "nbformat": 4,
 "nbformat_minor": 1
}
